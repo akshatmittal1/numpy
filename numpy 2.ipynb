{
 "cells": [
  {
   "cell_type": "code",
   "execution_count": 34,
   "metadata": {},
   "outputs": [],
   "source": [
    "import numpy as np"
   ]
  },
  {
   "cell_type": "code",
   "execution_count": 35,
   "metadata": {},
   "outputs": [],
   "source": [
    "a=np.arange(10) #array([0, 1, 2, 3, 4, 5, 6, 7, 8, 9])\n",
    "b=np.random.random([2,2])\n",
    "c=np.random.random([2,2,2])\n"
   ]
  },
  {
   "cell_type": "code",
   "execution_count": 36,
   "metadata": {},
   "outputs": [
    {
     "data": {
      "text/plain": [
       "0.13714094420042178"
      ]
     },
     "execution_count": 36,
     "metadata": {},
     "output_type": "execute_result"
    }
   ],
   "source": [
    "a[6] # 6\n",
    "b[0][0] # 0.07332029364267156\n",
    "c[0][0][0] # 0.6757686343370001"
   ]
  },
  {
   "cell_type": "code",
   "execution_count": 21,
   "metadata": {},
   "outputs": [
    {
     "data": {
      "text/plain": [
       "array([1, 3, 5, 7, 9])"
      ]
     },
     "execution_count": 21,
     "metadata": {},
     "output_type": "execute_result"
    }
   ],
   "source": [
    "# 1-d array\n",
    "a[:] #array([0, 1, 2, 3, 4, 5, 6, 7, 8, 9])\n",
    "a[1:] # array([1, 2, 3, 4, 5, 6, 7, 8, 9])\n",
    "a[:-1] # array([0, 1, 2, 3, 4, 5, 6, 7, 8])\n",
    "a[1:3] # array([1, 2])\n",
    "a[1::2] # array([1, 3, 5, 7, 9])"
   ]
  },
  {
   "cell_type": "code",
   "execution_count": 22,
   "metadata": {},
   "outputs": [
    {
     "data": {
      "text/plain": [
       "array([[0.78539928]])"
      ]
     },
     "execution_count": 22,
     "metadata": {},
     "output_type": "execute_result"
    }
   ],
   "source": [
    "# 2-d array\n",
    "b[1:,1:] # array([[0.78539928]])\n",
    "b[:,:] # print all\n",
    "b[::,::] # print all but we add step also \n",
    "c[:,:,:] # print all"
   ]
  },
  {
   "cell_type": "code",
   "execution_count": 24,
   "metadata": {},
   "outputs": [
    {
     "data": {
      "text/plain": [
       "array([1, 3, 5])"
      ]
     },
     "execution_count": 24,
     "metadata": {},
     "output_type": "execute_result"
    }
   ],
   "source": [
    "# Advanced Indexing\n",
    "x=np.array([1,2,3,4,5,6])\n",
    "b=np.array([1,3,5])\n",
    "a[b] # array([1, 3, 5]) like passing index values in a array"
   ]
  },
  {
   "cell_type": "code",
   "execution_count": 30,
   "metadata": {},
   "outputs": [
    {
     "data": {
      "text/plain": [
       "array([0, 1, 0, 1, 0, 1, 0, 1, 0, 1], dtype=int32)"
      ]
     },
     "execution_count": 30,
     "metadata": {},
     "output_type": "execute_result"
    }
   ],
   "source": [
    "a=np.arange(10)\n",
    "a+1 # array([ 1,  2,  3,  4,  5,  6,  7,  8,  9, 10])\n",
    "a-1 # array([-1,  0,  1,  2,  3,  4,  5,  6,  7,  8])\n",
    "a*2 # array([ 0,  2,  4,  6,  8, 10, 12, 14, 16, 18])\n",
    "a**2 # array([ 0,  1,  4,  9, 16, 25, 36, 49, 64, 81], dtype=int32)\n",
    "a%2 # array([0, 1, 0, 1, 0, 1, 0, 1, 0, 1], dtype=int32)"
   ]
  },
  {
   "cell_type": "code",
   "execution_count": 31,
   "metadata": {},
   "outputs": [],
   "source": [
    "# if the shape of array will be same then we add directly\n",
    "# if shape not same then we use broadcasting technique\n"
   ]
  },
  {
   "cell_type": "code",
   "execution_count": 55,
   "metadata": {},
   "outputs": [
    {
     "data": {
      "text/plain": [
       "array([0, 1, 2, 3, 4, 5, 6, 7, 8, 9, 0, 1, 2, 3, 4])"
      ]
     },
     "execution_count": 55,
     "metadata": {},
     "output_type": "execute_result"
    }
   ],
   "source": [
    "b.ravel() #Flatten the array\n",
    "b.reshape(2,-2) # reshape\n",
    "b.resize((4,1)) # resize\n",
    "np.append(a,b) # Append items to an array\n",
    "np.insert(a, 1, 5)\n",
    "np.delete(a,[1])\n",
    "c=np.arange(5)\n",
    "np.concatenate((a,c),axis=0)"
   ]
  },
  {
   "cell_type": "code",
   "execution_count": null,
   "metadata": {},
   "outputs": [],
   "source": []
  }
 ],
 "metadata": {
  "kernelspec": {
   "display_name": "Python 3",
   "language": "python",
   "name": "python3"
  },
  "language_info": {
   "codemirror_mode": {
    "name": "ipython",
    "version": 3
   },
   "file_extension": ".py",
   "mimetype": "text/x-python",
   "name": "python",
   "nbconvert_exporter": "python",
   "pygments_lexer": "ipython3",
   "version": "3.7.6"
  }
 },
 "nbformat": 4,
 "nbformat_minor": 4
}
